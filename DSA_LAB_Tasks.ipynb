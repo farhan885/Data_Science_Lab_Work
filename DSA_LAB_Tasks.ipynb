{
 "cells": [
  {
   "cell_type": "markdown",
   "metadata": {},
   "source": [
    "# DSA Lab-1"
   ]
  },
  {
   "cell_type": "markdown",
   "metadata": {},
   "source": [
    "## Task-1"
   ]
  },
  {
   "cell_type": "code",
   "execution_count": 1,
   "metadata": {},
   "outputs": [
    {
     "name": "stdout",
     "output_type": "stream",
     "text": [
      "Roll no: 17sw52\n",
      "0\n",
      "1\n",
      "2\n",
      "4\n",
      "5\n"
     ]
    }
   ],
   "source": [
    "print('Roll no: 17sw52')\n",
    "x=1\n",
    "for x in range(7):\n",
    "    if(x==3):\n",
    "        continue\n",
    "    if(x==6):\n",
    "        continue\n",
    "    print(x)"
   ]
  },
  {
   "cell_type": "markdown",
   "metadata": {},
   "source": [
    "## Task-2"
   ]
  },
  {
   "cell_type": "code",
   "execution_count": 2,
   "metadata": {},
   "outputs": [
    {
     "name": "stdout",
     "output_type": "stream",
     "text": [
      "Roll no: 17sw52\n",
      "Enter radius : 12\n",
      "Area =  904.608\n"
     ]
    }
   ],
   "source": [
    "print('Roll no: 17sw52')\n",
    "radius = int(input(\"Enter radius : \"))\n",
    "r = radius*radius\n",
    "area = 2.0 * 3.141 * float(r)\n",
    "print('Area = ',area)"
   ]
  },
  {
   "cell_type": "markdown",
   "metadata": {},
   "source": [
    "## Task-3"
   ]
  },
  {
   "cell_type": "code",
   "execution_count": 3,
   "metadata": {},
   "outputs": [
    {
     "name": "stdout",
     "output_type": "stream",
     "text": [
      "Roll no: 17sw52\n",
      "Mubltiples of 3 :  3\n",
      "Mubltiples of 5:  5\n",
      "Mubltiples of 3 :  6\n",
      "Mubltiples of 3 :  9\n",
      "Mubltiples of 5:  10\n",
      "Mubltiples of 3 :  12\n",
      "Mubltiples of both 3 and 5  :  15\n",
      "Mubltiples of 3 :  18\n",
      "Mubltiples of 5:  20\n",
      "Mubltiples of 3 :  21\n",
      "Mubltiples of 3 :  24\n",
      "Mubltiples of 5:  25\n",
      "Mubltiples of 3 :  27\n",
      "Mubltiples of both 3 and 5  :  30\n",
      "Mubltiples of 3 :  33\n",
      "Mubltiples of 5:  35\n",
      "Mubltiples of 3 :  36\n",
      "Mubltiples of 3 :  39\n",
      "Mubltiples of 5:  40\n",
      "Mubltiples of 3 :  42\n",
      "Mubltiples of both 3 and 5  :  45\n",
      "Mubltiples of 3 :  48\n",
      "49\n"
     ]
    }
   ],
   "source": [
    "print('Roll no: 17sw52')\n",
    "count = 0\n",
    "for x in range(1,50):\n",
    "    if(x%3 == 0 and x%5 == 0):\n",
    "        print('Mubltiples of both 3 and 5  : ', x)\n",
    "    elif(x%3 == 0):\n",
    "        print('Mubltiples of 3 : ', x)\n",
    "    elif(x%5 == 0):\n",
    "        print('Mubltiples of 5: ', x)\n",
    "    count += 1\n",
    "print(count)"
   ]
  },
  {
   "cell_type": "code",
   "execution_count": null,
   "metadata": {},
   "outputs": [],
   "source": []
  },
  {
   "cell_type": "markdown",
   "metadata": {},
   "source": [
    "# DSA lab-2"
   ]
  },
  {
   "cell_type": "code",
   "execution_count": 2,
   "metadata": {},
   "outputs": [
    {
     "data": {
      "text/plain": [
       "[1, 2, 3, [2, 3, 4]]"
      ]
     },
     "execution_count": 2,
     "metadata": {},
     "output_type": "execute_result"
    }
   ],
   "source": [
    "#copy\n",
    "lst = [2,3,4]\n",
    "s = [1,2,3,lst.copy()]\n",
    "s"
   ]
  },
  {
   "cell_type": "code",
   "execution_count": 3,
   "metadata": {},
   "outputs": [
    {
     "data": {
      "text/plain": [
       "[2, 3, 4, 1, 2, 3, [2, 3, 4]]"
      ]
     },
     "execution_count": 3,
     "metadata": {},
     "output_type": "execute_result"
    }
   ],
   "source": [
    "# join two lists\n",
    "s2 = lst+s\n",
    "s2"
   ]
  },
  {
   "cell_type": "code",
   "execution_count": 6,
   "metadata": {},
   "outputs": [
    {
     "name": "stdout",
     "output_type": "stream",
     "text": [
      "[1, 2, 3, [2, 3, 4], 2, 3, 4, 2, 3, 4, 2, 3, 4]\n"
     ]
    }
   ],
   "source": [
    "for x in lst:\n",
    "    s.append(x)\n",
    "print(s)"
   ]
  },
  {
   "cell_type": "code",
   "execution_count": null,
   "metadata": {},
   "outputs": [],
   "source": []
  },
  {
   "cell_type": "markdown",
   "metadata": {},
   "source": [
    "### Dictionaries"
   ]
  },
  {
   "cell_type": "code",
   "execution_count": 17,
   "metadata": {},
   "outputs": [
    {
     "name": "stdout",
     "output_type": "stream",
     "text": [
      "{'name': 'Ali', 'age': 23}\n",
      "name Ali\n",
      "age 23\n"
     ]
    }
   ],
   "source": [
    "# key values  ---> dic = {key:value}\n",
    "dic = {'name':'Ali', 'age':23}\n",
    "print(dic)\n",
    "\n",
    "for x,y in dic.items():\n",
    "    print(x,y)\n"
   ]
  },
  {
   "cell_type": "code",
   "execution_count": 21,
   "metadata": {},
   "outputs": [
    {
     "ename": "TypeError",
     "evalue": "unhashable type: 'dict'",
     "output_type": "error",
     "traceback": [
      "\u001b[1;31m---------------------------------------------------------------------------\u001b[0m",
      "\u001b[1;31mTypeError\u001b[0m                                 Traceback (most recent call last)",
      "\u001b[1;32m<ipython-input-21-73a013507a08>\u001b[0m in \u001b[0;36m<module>\u001b[1;34m\u001b[0m\n\u001b[0;32m      1\u001b[0m \u001b[1;31m# Multiple dicts\u001b[0m\u001b[1;33m\u001b[0m\u001b[1;33m\u001b[0m\u001b[1;33m\u001b[0m\u001b[0m\n\u001b[1;32m----> 2\u001b[1;33m \u001b[0mdic\u001b[0m \u001b[1;33m=\u001b[0m \u001b[1;33m{\u001b[0m\u001b[1;33m{\u001b[0m\u001b[1;34m'name1'\u001b[0m\u001b[1;33m:\u001b[0m\u001b[1;34m'Ali1'\u001b[0m\u001b[1;33m,\u001b[0m \u001b[1;34m'age1'\u001b[0m\u001b[1;33m:\u001b[0m\u001b[1;36m23\u001b[0m\u001b[1;33m}\u001b[0m\u001b[1;33m,\u001b[0m \u001b[1;33m{\u001b[0m\u001b[1;34m'name2'\u001b[0m\u001b[1;33m:\u001b[0m\u001b[1;34m'Ali2'\u001b[0m\u001b[1;33m,\u001b[0m \u001b[1;34m'age2'\u001b[0m\u001b[1;33m:\u001b[0m\u001b[1;36m23\u001b[0m\u001b[1;33m}\u001b[0m\u001b[1;33m,\u001b[0m \u001b[1;33m{\u001b[0m\u001b[1;34m'name3'\u001b[0m\u001b[1;33m:\u001b[0m\u001b[1;34m'Ali3'\u001b[0m\u001b[1;33m,\u001b[0m \u001b[1;34m'age3'\u001b[0m\u001b[1;33m:\u001b[0m\u001b[1;36m23\u001b[0m\u001b[1;33m}\u001b[0m\u001b[1;33m}\u001b[0m\u001b[1;33m\u001b[0m\u001b[1;33m\u001b[0m\u001b[0m\n\u001b[0m\u001b[0;32m      3\u001b[0m \u001b[1;32mfor\u001b[0m \u001b[0mx\u001b[0m \u001b[1;32min\u001b[0m \u001b[0mdic\u001b[0m\u001b[1;33m:\u001b[0m\u001b[1;33m\u001b[0m\u001b[1;33m\u001b[0m\u001b[0m\n\u001b[0;32m      4\u001b[0m     \u001b[0mprint\u001b[0m\u001b[1;33m(\u001b[0m\u001b[0mx\u001b[0m\u001b[1;33m)\u001b[0m\u001b[1;33m\u001b[0m\u001b[1;33m\u001b[0m\u001b[0m\n",
      "\u001b[1;31mTypeError\u001b[0m: unhashable type: 'dict'"
     ]
    }
   ],
   "source": [
    "# Multiple dicts\n",
    "dic = {{'name1':'Ali1', 'age1':23}, {'name2':'Ali2', 'age2':23}, {'name3':'Ali3', 'age3':23}}\n",
    "for x in dic:\n",
    "    print(x)"
   ]
  },
  {
   "cell_type": "code",
   "execution_count": null,
   "metadata": {},
   "outputs": [],
   "source": []
  },
  {
   "cell_type": "markdown",
   "metadata": {},
   "source": [
    "### Task-1"
   ]
  },
  {
   "cell_type": "code",
   "execution_count": 4,
   "metadata": {},
   "outputs": [
    {
     "name": "stdout",
     "output_type": "stream",
     "text": [
      "Roll no: 17sw52\n",
      "120\n"
     ]
    }
   ],
   "source": [
    "print('Roll no: 17sw52')\n",
    "myList = [1,2,3,4,5]\n",
    "a=1\n",
    "for x in myList:\n",
    "    a = a*x\n",
    "print(a)\n",
    "        \n",
    "\n",
    "    "
   ]
  },
  {
   "cell_type": "markdown",
   "metadata": {},
   "source": [
    "### Task-2"
   ]
  },
  {
   "cell_type": "code",
   "execution_count": 5,
   "metadata": {},
   "outputs": [
    {
     "name": "stdout",
     "output_type": "stream",
     "text": [
      "Roll no: 17sw52\n",
      "{1: 1, 2: 4, 3: 9, 4: 16, 5: 25, 6: 36, 7: 49, 8: 64, 9: 81, 10: 100, 11: 121, 12: 144, 13: 169, 14: 196, 15: 225}\n"
     ]
    }
   ],
   "source": [
    "print('Roll no: 17sw52')\n",
    "myDict = dict()\n",
    "for x in range(1,16):\n",
    "    myDict[x] = x*x\n",
    "print(myDict)\n"
   ]
  },
  {
   "cell_type": "markdown",
   "metadata": {},
   "source": [
    "### Task-3"
   ]
  },
  {
   "cell_type": "code",
   "execution_count": 6,
   "metadata": {},
   "outputs": [
    {
     "name": "stdout",
     "output_type": "stream",
     "text": [
      "Roll no: 17sw52\n"
     ]
    },
    {
     "data": {
      "text/plain": [
       "1240"
      ]
     },
     "execution_count": 6,
     "metadata": {},
     "output_type": "execute_result"
    }
   ],
   "source": [
    "print('Roll no: 17sw52')\n",
    "mySum = sum(myDict.values())\n",
    "mySum"
   ]
  },
  {
   "cell_type": "code",
   "execution_count": null,
   "metadata": {},
   "outputs": [],
   "source": []
  },
  {
   "cell_type": "markdown",
   "metadata": {},
   "source": [
    "# DSA Lab-3"
   ]
  },
  {
   "cell_type": "markdown",
   "metadata": {},
   "source": [
    "## Functions"
   ]
  },
  {
   "cell_type": "code",
   "execution_count": null,
   "metadata": {},
   "outputs": [],
   "source": [
    "#def g(*name)    # don't know how many names when called, we use *\n"
   ]
  },
  {
   "cell_type": "markdown",
   "metadata": {},
   "source": [
    "### Task-1"
   ]
  },
  {
   "cell_type": "code",
   "execution_count": 7,
   "metadata": {},
   "outputs": [
    {
     "name": "stdout",
     "output_type": "stream",
     "text": [
      "Roll no: 17sw52\n",
      "5\n"
     ]
    }
   ],
   "source": [
    "print('Roll no: 17sw52')\n",
    "# Method - 1\n",
    "def maxNum(n1,n2,n3):\n",
    "    c = max(n1,n2,n3)\n",
    "    print(c)\n",
    "maxNum(2,4,5)"
   ]
  },
  {
   "cell_type": "code",
   "execution_count": 8,
   "metadata": {},
   "outputs": [
    {
     "name": "stdout",
     "output_type": "stream",
     "text": [
      "Roll no: 17sw52\n",
      "max =  5\n"
     ]
    }
   ],
   "source": [
    "print('Roll no: 17sw52')\n",
    "# Method - 2\n",
    "def maxNum(n1,n2,n3):\n",
    "    if n1>n2 and n1>n3:\n",
    "        print(\"max = \", n1)\n",
    "    elif n2>n1 and n2>n3:\n",
    "        print(\"max = \", n2)\n",
    "    else:\n",
    "        print(\"max = \", n3)\n",
    "maxNum(2,4,5)"
   ]
  },
  {
   "cell_type": "markdown",
   "metadata": {},
   "source": [
    "### task-2"
   ]
  },
  {
   "cell_type": "code",
   "execution_count": 9,
   "metadata": {},
   "outputs": [
    {
     "name": "stdout",
     "output_type": "stream",
     "text": [
      "Roll no: 17sw52\n",
      "6\n",
      "nahr\n"
     ]
    }
   ],
   "source": [
    "print('Roll no: 17sw52')\n",
    "def reverse(s=\"farhan\"):\n",
    "    print(len(s))\n",
    "    print(s[:1:-1])\n",
    "reverse()"
   ]
  },
  {
   "cell_type": "markdown",
   "metadata": {},
   "source": [
    "### Task-3"
   ]
  },
  {
   "cell_type": "code",
   "execution_count": 10,
   "metadata": {},
   "outputs": [
    {
     "name": "stdout",
     "output_type": "stream",
     "text": [
      "Roll no: 17sw52\n",
      "442\n"
     ]
    }
   ],
   "source": [
    "print('Roll no: 17sw52')\n",
    "# Method - 1\n",
    "def myList(numList):\n",
    "    print(max(numList))\n",
    "nl = [23,442,21,13,41]\n",
    "myList(nl)"
   ]
  },
  {
   "cell_type": "code",
   "execution_count": 11,
   "metadata": {},
   "outputs": [
    {
     "name": "stdout",
     "output_type": "stream",
     "text": [
      "Roll no: 17sw52\n"
     ]
    },
    {
     "data": {
      "text/plain": [
       "434"
      ]
     },
     "execution_count": 11,
     "metadata": {},
     "output_type": "execute_result"
    }
   ],
   "source": [
    "print('Roll no: 17sw52')\n",
    "# Method - 2 \n",
    "def newList(n):\n",
    "    x = 0\n",
    "    for i in n:\n",
    "        if i >= x:\n",
    "            x = i\n",
    "    return x\n",
    "nl = [2,4,43,5,2,32,434,12]\n",
    "newList(nl)"
   ]
  },
  {
   "cell_type": "code",
   "execution_count": null,
   "metadata": {},
   "outputs": [],
   "source": []
  },
  {
   "cell_type": "markdown",
   "metadata": {},
   "source": [
    "# DSA lab-3  (Exception Handling)"
   ]
  },
  {
   "cell_type": "markdown",
   "metadata": {},
   "source": [
    "### Task-1"
   ]
  },
  {
   "cell_type": "code",
   "execution_count": 12,
   "metadata": {},
   "outputs": [
    {
     "name": "stdout",
     "output_type": "stream",
     "text": [
      "Roll no: 17sw52\n",
      "Enter a number: 12\n",
      "Enter another number: 44\n",
      "12 / 44  =  0.2727272727272727\n",
      "Enter a number: 12\n",
      "Enter another number: 0\n"
     ]
    },
    {
     "ename": "Exception",
     "evalue": "Divions by zero is not applicable!",
     "output_type": "error",
     "traceback": [
      "\u001b[1;31m---------------------------------------------------------------------------\u001b[0m",
      "\u001b[1;31mException\u001b[0m                                 Traceback (most recent call last)",
      "\u001b[1;32m<ipython-input-12-7d7e1cd1f43c>\u001b[0m in \u001b[0;36m<module>\u001b[1;34m\u001b[0m\n\u001b[0;32m      7\u001b[0m             \u001b[1;32mraise\u001b[0m \u001b[0mException\u001b[0m\u001b[1;33m(\u001b[0m\u001b[1;34m\"Divions by zero is not applicable!\"\u001b[0m\u001b[1;33m)\u001b[0m\u001b[1;33m\u001b[0m\u001b[1;33m\u001b[0m\u001b[0m\n\u001b[0;32m      8\u001b[0m         \u001b[0mprint\u001b[0m\u001b[1;33m(\u001b[0m\u001b[0mx\u001b[0m\u001b[1;33m,\u001b[0m \u001b[1;34m'/'\u001b[0m\u001b[1;33m,\u001b[0m \u001b[0my\u001b[0m\u001b[1;33m,\u001b[0m \u001b[1;34m' = '\u001b[0m\u001b[1;33m,\u001b[0m \u001b[0mx\u001b[0m\u001b[1;33m/\u001b[0m\u001b[0my\u001b[0m\u001b[1;33m)\u001b[0m\u001b[1;33m\u001b[0m\u001b[1;33m\u001b[0m\u001b[0m\n\u001b[1;32m----> 9\u001b[1;33m \u001b[0mTask1\u001b[0m\u001b[1;33m(\u001b[0m\u001b[1;36m4\u001b[0m\u001b[1;33m)\u001b[0m\u001b[1;33m\u001b[0m\u001b[1;33m\u001b[0m\u001b[0m\n\u001b[0m",
      "\u001b[1;32m<ipython-input-12-7d7e1cd1f43c>\u001b[0m in \u001b[0;36mTask1\u001b[1;34m(num)\u001b[0m\n\u001b[0;32m      5\u001b[0m         \u001b[0my\u001b[0m \u001b[1;33m=\u001b[0m \u001b[0mint\u001b[0m\u001b[1;33m(\u001b[0m\u001b[0minput\u001b[0m\u001b[1;33m(\u001b[0m\u001b[1;34m\"Enter another number: \"\u001b[0m\u001b[1;33m)\u001b[0m\u001b[1;33m)\u001b[0m\u001b[1;33m\u001b[0m\u001b[1;33m\u001b[0m\u001b[0m\n\u001b[0;32m      6\u001b[0m         \u001b[1;32mif\u001b[0m \u001b[0my\u001b[0m \u001b[1;33m==\u001b[0m \u001b[1;36m0\u001b[0m\u001b[1;33m:\u001b[0m\u001b[1;33m\u001b[0m\u001b[1;33m\u001b[0m\u001b[0m\n\u001b[1;32m----> 7\u001b[1;33m             \u001b[1;32mraise\u001b[0m \u001b[0mException\u001b[0m\u001b[1;33m(\u001b[0m\u001b[1;34m\"Divions by zero is not applicable!\"\u001b[0m\u001b[1;33m)\u001b[0m\u001b[1;33m\u001b[0m\u001b[1;33m\u001b[0m\u001b[0m\n\u001b[0m\u001b[0;32m      8\u001b[0m         \u001b[0mprint\u001b[0m\u001b[1;33m(\u001b[0m\u001b[0mx\u001b[0m\u001b[1;33m,\u001b[0m \u001b[1;34m'/'\u001b[0m\u001b[1;33m,\u001b[0m \u001b[0my\u001b[0m\u001b[1;33m,\u001b[0m \u001b[1;34m' = '\u001b[0m\u001b[1;33m,\u001b[0m \u001b[0mx\u001b[0m\u001b[1;33m/\u001b[0m\u001b[0my\u001b[0m\u001b[1;33m)\u001b[0m\u001b[1;33m\u001b[0m\u001b[1;33m\u001b[0m\u001b[0m\n\u001b[0;32m      9\u001b[0m \u001b[0mTask1\u001b[0m\u001b[1;33m(\u001b[0m\u001b[1;36m4\u001b[0m\u001b[1;33m)\u001b[0m\u001b[1;33m\u001b[0m\u001b[1;33m\u001b[0m\u001b[0m\n",
      "\u001b[1;31mException\u001b[0m: Divions by zero is not applicable!"
     ]
    }
   ],
   "source": [
    "print('Roll no: 17sw52')\n",
    "def Task1(num):\n",
    "    for i in range(num):\n",
    "        x = int(input(\"Enter a number: \"))\n",
    "        y = int(input(\"Enter another number: \"))\n",
    "        if y == 0:\n",
    "            raise Exception(\"Divions by zero is not applicable!\")\n",
    "        print(x, '/', y, ' = ', x/y)\n",
    "Task1(4)\n"
   ]
  },
  {
   "cell_type": "markdown",
   "metadata": {},
   "source": [
    "### Task-2"
   ]
  },
  {
   "cell_type": "code",
   "execution_count": null,
   "metadata": {},
   "outputs": [],
   "source": [
    "print('Roll no: 17sw52')\n",
    "import sys\n",
    "def Task2(L):\n",
    "    print(\"\\n\\nTask2\")\n",
    "    print('Given List: ', L)\n",
    "    sumpairs = []\n",
    "    for i in range(len(L)-1):\n",
    "        try:\n",
    "            sumpairs.append(L[i]+L[i+1])\n",
    "            print(\"Sum of Pair \",L[i],' and ',L[i+1], '=', sumpairs)\n",
    "        except TypeError:\n",
    "            print('Only integers can be added, String found!')\n",
    "L = [3,5,'a',1]\n",
    "Task2(L)"
   ]
  },
  {
   "cell_type": "markdown",
   "metadata": {},
   "source": [
    "### Task-3"
   ]
  },
  {
   "cell_type": "code",
   "execution_count": 16,
   "metadata": {},
   "outputs": [
    {
     "name": "stdout",
     "output_type": "stream",
     "text": [
      "Roll no: 17sw52\n",
      "Enter a number: 2\n",
      "Enter another number: 4\n",
      "2 / 4  =  0.5\n",
      "Enter a number: 4\n",
      "Enter another number: 0\n",
      "Zero is not applicable!\n",
      "Enter a number: 3\n",
      "Enter another number: d\n"
     ]
    },
    {
     "ename": "ValueError",
     "evalue": "invalid literal for int() with base 10: 'd'",
     "output_type": "error",
     "traceback": [
      "\u001b[1;31m---------------------------------------------------------------------------\u001b[0m",
      "\u001b[1;31mValueError\u001b[0m                                Traceback (most recent call last)",
      "\u001b[1;32m<ipython-input-16-3e342fb68a8a>\u001b[0m in \u001b[0;36m<module>\u001b[1;34m\u001b[0m\n\u001b[0;32m     12\u001b[0m             \u001b[0mprint\u001b[0m\u001b[1;33m(\u001b[0m\u001b[1;34m'Zero is not applicable!'\u001b[0m\u001b[1;33m)\u001b[0m\u001b[1;33m\u001b[0m\u001b[1;33m\u001b[0m\u001b[0m\n\u001b[0;32m     13\u001b[0m \u001b[1;33m\u001b[0m\u001b[0m\n\u001b[1;32m---> 14\u001b[1;33m \u001b[0mTask1\u001b[0m\u001b[1;33m(\u001b[0m\u001b[1;36m4\u001b[0m\u001b[1;33m)\u001b[0m\u001b[1;33m\u001b[0m\u001b[1;33m\u001b[0m\u001b[0m\n\u001b[0m",
      "\u001b[1;32m<ipython-input-16-3e342fb68a8a>\u001b[0m in \u001b[0;36mTask1\u001b[1;34m(num)\u001b[0m\n\u001b[0;32m      4\u001b[0m     \u001b[1;32mfor\u001b[0m \u001b[0mi\u001b[0m \u001b[1;32min\u001b[0m \u001b[0mrange\u001b[0m\u001b[1;33m(\u001b[0m\u001b[0mnum\u001b[0m\u001b[1;33m)\u001b[0m\u001b[1;33m:\u001b[0m\u001b[1;33m\u001b[0m\u001b[1;33m\u001b[0m\u001b[0m\n\u001b[0;32m      5\u001b[0m         \u001b[0mx\u001b[0m \u001b[1;33m=\u001b[0m \u001b[0mint\u001b[0m\u001b[1;33m(\u001b[0m\u001b[0minput\u001b[0m\u001b[1;33m(\u001b[0m\u001b[1;34m\"Enter a number: \"\u001b[0m\u001b[1;33m)\u001b[0m\u001b[1;33m)\u001b[0m\u001b[1;33m\u001b[0m\u001b[1;33m\u001b[0m\u001b[0m\n\u001b[1;32m----> 6\u001b[1;33m         \u001b[0my\u001b[0m \u001b[1;33m=\u001b[0m \u001b[0mint\u001b[0m\u001b[1;33m(\u001b[0m\u001b[0minput\u001b[0m\u001b[1;33m(\u001b[0m\u001b[1;34m\"Enter another number: \"\u001b[0m\u001b[1;33m)\u001b[0m\u001b[1;33m)\u001b[0m\u001b[1;33m\u001b[0m\u001b[1;33m\u001b[0m\u001b[0m\n\u001b[0m\u001b[0;32m      7\u001b[0m         \u001b[1;32mtry\u001b[0m\u001b[1;33m:\u001b[0m\u001b[1;33m\u001b[0m\u001b[1;33m\u001b[0m\u001b[0m\n\u001b[0;32m      8\u001b[0m             \u001b[0mprint\u001b[0m\u001b[1;33m(\u001b[0m\u001b[0mx\u001b[0m\u001b[1;33m,\u001b[0m \u001b[1;34m'/'\u001b[0m\u001b[1;33m,\u001b[0m \u001b[0my\u001b[0m\u001b[1;33m,\u001b[0m \u001b[1;34m' = '\u001b[0m\u001b[1;33m,\u001b[0m \u001b[0mx\u001b[0m\u001b[1;33m/\u001b[0m\u001b[0my\u001b[0m\u001b[1;33m)\u001b[0m\u001b[1;33m\u001b[0m\u001b[1;33m\u001b[0m\u001b[0m\n",
      "\u001b[1;31mValueError\u001b[0m: invalid literal for int() with base 10: 'd'"
     ]
    }
   ],
   "source": [
    "print('Roll no: 17sw52')\n",
    "import sys\n",
    "def Task1(num):\n",
    "    for i in range(num):\n",
    "        x = int(input(\"Enter a number: \"))\n",
    "        y = int(input(\"Enter another number: \"))\n",
    "        try:\n",
    "            print(x, '/', y, ' = ', x/y)\n",
    "        except ValueError:\n",
    "            print('Enter integers only!')\n",
    "        except:\n",
    "            print('Zero is not applicable!')\n",
    "            \n",
    "Task1(4)\n"
   ]
  },
  {
   "cell_type": "code",
   "execution_count": null,
   "metadata": {},
   "outputs": [],
   "source": []
  },
  {
   "cell_type": "markdown",
   "metadata": {},
   "source": [
    "# DSA Weekend Lab Tasks"
   ]
  },
  {
   "cell_type": "markdown",
   "metadata": {},
   "source": [
    "### Task-1: Write a Python program that recursively performs summation of a list of items. \n",
    "Test Data: [1, 2, [3,4], [5,6], [7,8]]\n",
    "Expected Result: 36\n"
   ]
  },
  {
   "cell_type": "code",
   "execution_count": 1,
   "metadata": {},
   "outputs": [
    {
     "name": "stdout",
     "output_type": "stream",
     "text": [
      "36\n"
     ]
    }
   ],
   "source": [
    "def myRecList(myList):\n",
    "    total = 0;\n",
    "    for i in myList:\n",
    "        if type(i) == type([]):\n",
    "            total = total + myRecList(i)\n",
    "        else:\n",
    "            total = total + i\n",
    "    return total\n",
    "myList = [1, 2, [3,4], [5,6], [7,8]]\n",
    "print(myRecList(myList))"
   ]
  },
  {
   "cell_type": "markdown",
   "metadata": {},
   "source": [
    "### Task-2: Write a Python program to get the factorial of a non-negative integer."
   ]
  },
  {
   "cell_type": "code",
   "execution_count": 5,
   "metadata": {},
   "outputs": [
    {
     "name": "stdout",
     "output_type": "stream",
     "text": [
      "Input a number to compute the factiorial : 5\n",
      "120\n"
     ]
    }
   ],
   "source": [
    "def fact(num):\n",
    "    if num == 0:\n",
    "        return 1\n",
    "    else:\n",
    "        return num * fact(num-1)\n",
    "num=int(input(\"Input a number to compute the factiorial : \"))\n",
    "if num>0:\n",
    "    print(fact(num))\n",
    "else:\n",
    "    print(\"Enterb Non-Negative numbers only!\")"
   ]
  },
  {
   "cell_type": "markdown",
   "metadata": {},
   "source": [
    "### Task-3: Write a Python function that takes 3 non-negative integers and returns their sum. Use Exception handling to make the code robust."
   ]
  },
  {
   "cell_type": "code",
   "execution_count": 6,
   "metadata": {},
   "outputs": [
    {
     "name": "stdout",
     "output_type": "stream",
     "text": [
      "Enter nums - 4\n",
      "Enter nums - 6\n",
      "Enter nums - 3\n",
      "Sum =  13\n"
     ]
    }
   ],
   "source": [
    "def threeNums(nums):\n",
    "    mySum = 0\n",
    "    for i in range(nums):\n",
    "        try:\n",
    "            nums = int(input(\"Enter nums - \"))\n",
    "            mySum = nums+mySum\n",
    "        except:\n",
    "            print('Try again and Enter numbers only!')\n",
    "            break\n",
    "    print('Sum = ',mySum)\n",
    "\n",
    "threeNums(3)"
   ]
  },
  {
   "cell_type": "markdown",
   "metadata": {},
   "source": [
    "### Task-4: Write a Python function to calculate the sum of the positive integers of type:\n",
    " \n",
    " n+(n-2)+(n-4)... (until n-x =< 0).\n",
    " \n",
    "Example:\n",
    "\n",
    "series_sum(6) -> 12\n",
    "\n",
    "series_sum(12) -> 78\n"
   ]
  },
  {
   "cell_type": "code",
   "execution_count": 12,
   "metadata": {},
   "outputs": [
    {
     "name": "stdout",
     "output_type": "stream",
     "text": [
      "Input a number: 7\n",
      "28.0\n"
     ]
    }
   ],
   "source": [
    "def Sum():\n",
    "    n = int(input(\"Input a number: \"))\n",
    "    sum_num = (n * (n + 1)) / 2\n",
    "    print(sum_num)\n",
    "Sum()\n"
   ]
  },
  {
   "cell_type": "markdown",
   "metadata": {},
   "source": [
    "### Task-5: Create a dictionary with numeric keys and string values. Write a Python script to sort (ascending and descending) a dictionary by keys."
   ]
  },
  {
   "cell_type": "code",
   "execution_count": 38,
   "metadata": {},
   "outputs": [
    {
     "name": "stdout",
     "output_type": "stream",
     "text": [
      "1 Farhan\n",
      "2 Sami\n",
      "3 Ihsan\n",
      "4 Israr\n",
      "5 Ali\n"
     ]
    }
   ],
   "source": [
    "d = {1: 'Farhan', 5: 'Ali', 4: 'Israr', 2: 'Sami', 3: 'Ihsan'}   \n",
    "for i in sorted(d) : \n",
    "    print(i, d[i])"
   ]
  },
  {
   "cell_type": "markdown",
   "metadata": {},
   "source": [
    "### Task-6: Write a Python script to concatenate three separate dictionaries into one new one"
   ]
  },
  {
   "cell_type": "code",
   "execution_count": 11,
   "metadata": {},
   "outputs": [
    {
     "name": "stdout",
     "output_type": "stream",
     "text": [
      "{'Id': '17sw52', 'Name': 'Farhan', 'Subject': 'Data Science', 'Marks': 80, 'Grade': 'A', 'Status': 'Pass'}\n"
     ]
    }
   ],
   "source": [
    "dic1={'Id':'17sw52', 'Name':'Farhan'}\n",
    "dic2={'Subject':'Data Science', 'Marks': 80}\n",
    "dic3={'Grade':'A','Status':'Pass'}\n",
    "dic4 = {}\n",
    "for d in (dic1, dic2, dic3): \n",
    "    dic4.update(d)\n",
    "print(dic4)"
   ]
  },
  {
   "cell_type": "markdown",
   "metadata": {},
   "source": [
    "### Task-7: Write a Python program that asks a user to enter a key they want to remove from a dictionary and then remove that entry. Use Exception Handling."
   ]
  },
  {
   "cell_type": "code",
   "execution_count": 24,
   "metadata": {},
   "outputs": [
    {
     "name": "stdout",
     "output_type": "stream",
     "text": [
      "Enter a key you want to remove: name\n",
      "{'id': '17sw52', 'name': 'farhan', 'subject': 'Data_Science'}\n",
      "{'id': '17sw52', 'subject': 'Data_Science'}\n"
     ]
    }
   ],
   "source": [
    "myDict = {'id':'17sw52', 'name':'farhan', 'subject':'Data_Science'}\n",
    "myKey = input(\"Enter a key you want to remove: \")\n",
    "print(myDict)\n",
    "if myKey in myDict: \n",
    "    del myDict[myKey]\n",
    "print(myDict)\n"
   ]
  },
  {
   "cell_type": "markdown",
   "metadata": {},
   "source": [
    "### Task-8: Write a Python program to remove any duplicate entries from a Dictionary."
   ]
  },
  {
   "cell_type": "code",
   "execution_count": 14,
   "metadata": {},
   "outputs": [
    {
     "name": "stdout",
     "output_type": "stream",
     "text": [
      "Original dictionary is : {'farhan': 52, 'Ali': 52, 'Israr': 14, 'Ihsan': 10}\n",
      "Dictionary after duplicates removed: {'farhan': 52, 'Israr': 14, 'Ihsan': 10}\n"
     ]
    }
   ],
   "source": [
    "myDict = { 'farhan' : 52, 'Ali' : 52, 'Israr' : 15, 'Ihsan' : 10, 'Israr' : 14} \n",
    "  \n",
    "print(\"Original dictionary is : \" + str(myDict)) \n",
    "\n",
    "temp = [] \n",
    "res = dict() \n",
    "for key, val in myDict.items(): \n",
    "    if val not in temp: \n",
    "        temp.append(val) \n",
    "        res[key] = val \n",
    "print('Dictionary after duplicates removed: '+ str(res))"
   ]
  },
  {
   "cell_type": "markdown",
   "metadata": {},
   "source": [
    "### Task-9: Write a function called Info_Numbers that takes a parameter called endLimit. It should print all the numbers between 0 and endLimit with some text to identify the even and odd numbers. For example, if the endLimit is 3, it should print:\n",
    "0 EVEN\n",
    "1 ODD\n",
    "2 EVEN\n",
    "3 ODD\n"
   ]
  },
  {
   "cell_type": "code",
   "execution_count": 23,
   "metadata": {},
   "outputs": [
    {
     "name": "stdout",
     "output_type": "stream",
     "text": [
      "Enter endLimit: 5\n",
      "0  EVEN\n",
      "1  ODD\n",
      "2  EVEN\n",
      "3  ODD\n",
      "4  EVEN\n",
      "5  ODD\n"
     ]
    }
   ],
   "source": [
    "def Info_Numbers(endLimit):\n",
    "    for i in range(endLimit+1):\n",
    "        if i%2 == 0:\n",
    "            print(i,\" EVEN\")\n",
    "        else:\n",
    "            print(i, ' ODD')\n",
    "num = int(input(\"Enter endLimit: \"))\n",
    "Info_Numbers(num)"
   ]
  },
  {
   "cell_type": "code",
   "execution_count": null,
   "metadata": {},
   "outputs": [],
   "source": []
  }
 ],
 "metadata": {
  "kernelspec": {
   "display_name": "Python 3",
   "language": "python",
   "name": "python3"
  },
  "language_info": {
   "codemirror_mode": {
    "name": "ipython",
    "version": 3
   },
   "file_extension": ".py",
   "mimetype": "text/x-python",
   "name": "python",
   "nbconvert_exporter": "python",
   "pygments_lexer": "ipython3",
   "version": "3.7.6"
  }
 },
 "nbformat": 4,
 "nbformat_minor": 4
}
